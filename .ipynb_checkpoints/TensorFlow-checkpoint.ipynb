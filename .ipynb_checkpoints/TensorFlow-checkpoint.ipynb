{
 "cells": [
  {
   "cell_type": "markdown",
   "metadata": {},
   "source": [
    "# TensorFlow"
   ]
  },
  {
   "cell_type": "code",
   "execution_count": 1,
   "metadata": {
    "collapsed": true
   },
   "outputs": [],
   "source": [
    "import tensorflow as tf"
   ]
  },
  {
   "cell_type": "markdown",
   "metadata": {},
   "source": [
    "### Create Graph"
   ]
  },
  {
   "cell_type": "code",
   "execution_count": 3,
   "metadata": {},
   "outputs": [],
   "source": [
    "# Create a Graph\n",
    "g = tf.Graph()\n",
    "\n",
    "with g.as_default():\n",
    "  x = tf.placeholder(dtype=tf.float32, shape=(None), name='x')\n",
    "  w = tf.Variable(2.0, name='weight')\n",
    "  b = tf.Variable(0.7, name='bias')\n",
    "\n",
    "  z = w * x + b\n",
    "\n",
    "  init = tf.global_variables_initializer()"
   ]
  },
  {
   "cell_type": "markdown",
   "metadata": {},
   "source": [
    "### Lazy Evaluation\n",
    "Remember that tensorflow does \"lazy evaluation\" which basically means you can establish your variables and graph, but must run an actual \"session\" to get printed results as below."
   ]
  },
  {
   "cell_type": "code",
   "execution_count": 4,
   "metadata": {},
   "outputs": [
    {
     "name": "stdout",
     "output_type": "stream",
     "text": [
      "x = 1.0 --> z = 2.7\n",
      "x = 0.6 --> z = 1.9\n",
      "x =-1.8 --> z =-2.9\n"
     ]
    }
   ],
   "source": [
    "# Create a session and pass in graph g\n",
    "with tf.Session(graph=g) as sess:\n",
    "  # Initialize w and b:\n",
    "  sess.run(init)\n",
    "  # Evaluate z:\n",
    "  for t in [1.0, 0.6, -1.8]:\n",
    "    print('x =%4.1f --> z =%4.1f'%(t, sess.run(z, feed_dict={x:t})))"
   ]
  }
 ],
 "metadata": {
  "kernelspec": {
   "display_name": "Python 3",
   "language": "python",
   "name": "python3"
  },
  "language_info": {
   "codemirror_mode": {
    "name": "ipython",
    "version": 3
   },
   "file_extension": ".py",
   "mimetype": "text/x-python",
   "name": "python",
   "nbconvert_exporter": "python",
   "pygments_lexer": "ipython3",
   "version": "3.6.4"
  }
 },
 "nbformat": 4,
 "nbformat_minor": 2
}
