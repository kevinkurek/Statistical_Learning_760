{
 "cells": [
  {
   "cell_type": "markdown",
   "metadata": {},
   "source": [
    "# Support Vector Machine with SMO algorithm"
   ]
  },
  {
   "cell_type": "markdown",
   "metadata": {},
   "source": [
    "1. Create linearly-separable data set with some noise.\n",
    "2. Implement SVM with the SMO algorithm.\n",
    "\n",
    "Advantages of using SMO is that it breaks up the problem into smaller sub-problems which have analytical solutions, and thus are much easier to solve and are much faster to solve. SMO was designed by John Platt at Microsoft in 1998."
   ]
  },
  {
   "cell_type": "code",
   "execution_count": 11,
   "metadata": {},
   "outputs": [],
   "source": [
    "import matplotlib.pyplot as plt\n",
    "import numpy as np\n",
    "\n",
    "X = np.random.rand(100,2)"
   ]
  },
  {
   "cell_type": "code",
   "execution_count": 15,
   "metadata": {},
   "outputs": [
    {
     "data": {
      "text/plain": [
       "array([[0.88065696, 0.50709155],\n",
       "       [0.10872465, 0.89479678],\n",
       "       [0.09117134, 0.5539555 ],\n",
       "       [0.42354502, 0.21050826],\n",
       "       [0.55169419, 0.21224146]])"
      ]
     },
     "execution_count": 15,
     "metadata": {},
     "output_type": "execute_result"
    }
   ],
   "source": [
    "# Subset of random number generation\n",
    "X[:5,:]"
   ]
  },
  {
   "cell_type": "markdown",
   "metadata": {},
   "source": [
    "### Generate Linearly Separable Data"
   ]
  },
  {
   "cell_type": "code",
   "execution_count": 16,
   "metadata": {},
   "outputs": [
    {
     "data": {
      "image/png": "[encoded data removed]",
      "text/plain": [
       "<Figure size 432x288 with 1 Axes>"
      ]
     },
     "metadata": {},
     "output_type": "display_data"
    }
   ],
   "source": [
    "# Line for linear separability: y < 3X - 1\n",
    "\n",
    "negative_points = []\n",
    "positive_points = []\n",
    "\n",
    "for i in range(len(X)):\n",
    "    if (3*X[i,0] - 1) < X[i,1]:\n",
    "        plt.scatter(X[i,0], X[i,1], c='r')\n",
    "        negative_points.append([X[i,0],X[i,1]])\n",
    "    else:\n",
    "        plt.scatter(X[i,0], X[i,1], c='b')\n",
    "        positive_points.append([X[i,0],X[i,1]])\n",
    "plt.show()"
   ]
  },
  {
   "cell_type": "markdown",
   "metadata": {},
   "source": [
    "### Single df with positive/negative classes"
   ]
  },
  {
   "cell_type": "code",
   "execution_count": 36,
   "metadata": {},
   "outputs": [
    {
     "data": {
      "text/html": [
       "<div>\n",
       "<style scoped>\n",
       "    .dataframe tbody tr th:only-of-type {\n",
       "        vertical-align: middle;\n",
       "    }\n",
       "\n",
       "    .dataframe tbody tr th {\n",
       "        vertical-align: top;\n",
       "    }\n",
       "\n",
       "    .dataframe thead th {\n",
       "        text-align: right;\n",
       "    }\n",
       "</style>\n",
       "<table border=\"1\" class=\"dataframe\">\n",
       "  <thead>\n",
       "    <tr style=\"text-align: right;\">\n",
       "      <th></th>\n",
       "      <th>0</th>\n",
       "      <th>1</th>\n",
       "      <th>y</th>\n",
       "    </tr>\n",
       "  </thead>\n",
       "  <tbody>\n",
       "    <tr>\n",
       "      <th>0</th>\n",
       "      <td>0.108725</td>\n",
       "      <td>0.894797</td>\n",
       "      <td>-1</td>\n",
       "    </tr>\n",
       "    <tr>\n",
       "      <th>1</th>\n",
       "      <td>0.091171</td>\n",
       "      <td>0.553956</td>\n",
       "      <td>-1</td>\n",
       "    </tr>\n",
       "    <tr>\n",
       "      <th>2</th>\n",
       "      <td>0.271227</td>\n",
       "      <td>0.562987</td>\n",
       "      <td>-1</td>\n",
       "    </tr>\n",
       "    <tr>\n",
       "      <th>3</th>\n",
       "      <td>0.169994</td>\n",
       "      <td>0.602018</td>\n",
       "      <td>-1</td>\n",
       "    </tr>\n",
       "    <tr>\n",
       "      <th>4</th>\n",
       "      <td>0.272529</td>\n",
       "      <td>0.623325</td>\n",
       "      <td>-1</td>\n",
       "    </tr>\n",
       "  </tbody>\n",
       "</table>\n",
       "</div>"
      ],
      "text/plain": [
       "          0         1  y\n",
       "0  0.108725  0.894797 -1\n",
       "1  0.091171  0.553956 -1\n",
       "2  0.271227  0.562987 -1\n",
       "3  0.169994  0.602018 -1\n",
       "4  0.272529  0.623325 -1"
      ]
     },
     "execution_count": 36,
     "metadata": {},
     "output_type": "execute_result"
    }
   ],
   "source": [
    "# Subset of negative and positive points\n",
    "import pandas as pd\n",
    "negative_points = pd.DataFrame(negative_points)\n",
    "positive_points = pd.DataFrame(positive_points)\n",
    "\n",
    "negative_points['y'] = -1\n",
    "positive_points['y'] = 1\n",
    "\n",
    "df = pd.concat([negative_points,positive_points])\n",
    "df = df.reset_index(drop=True)\n",
    "df.head()"
   ]
  },
  {
   "cell_type": "markdown",
   "metadata": {},
   "source": [
    "### SVM class with SMO algorithm with helper functions"
   ]
  },
  {
   "cell_type": "code",
   "execution_count": 65,
   "metadata": {
    "collapsed": true
   },
   "outputs": [],
   "source": [
    "class SVM():\n",
    "    \n",
    "    def __init__(self, max_iterations=10000, kernel_type='linear', C = 1.0, epsilon = 0.001):\n",
    "        \n",
    "        self.kernels = {\n",
    "            'linear': self.kernel_linear,\n",
    "        }\n",
    "        self.max_iter = max_iterations\n",
    "        self.kernel_type = kernel_type\n",
    "        self.C = C\n",
    "        self.epsilon = epsilon\n",
    "        \n",
    "    def fit(self, X, y):\n",
    "        \n",
    "        n, d = X.shape[0], X.shape[1]\n",
    "        alpha = np.zeros((n))\n",
    "        kernel = self.kernels[self.kernel_type]\n",
    "        \n",
    "        count = 0\n",
    "        while True:\n",
    "            count += 1\n",
    "            previous_alpha = np.copy(alpha)\n",
    "            \n",
    "            for j in range(0,n):\n",
    "                i = self.get_random_integer(0, n-1, j)\n",
    "                x_i, x_j, y_i, y_j = X[i,:], X[j,:], y[i], y[j]\n",
    "                \n",
    "                k_ij = kernel(x_i, x_i) + kernel(x_j, x_j) - 2 * kernel(x_i, x_j)\n",
    "                \n",
    "                if k_ij == 0:\n",
    "                    continue\n",
    "                alpha_prime_j, alpha_prime_i = alpha[j], alpha[i]\n",
    "                (L,H) = self.compute_L_H(self.C, alpha_prime_j, alpha_prime_i, y_j, y_i)\n",
    "                \n",
    "                # Current model parameters\n",
    "                self.w = self.calc_w(alpha, y, X)\n",
    "                self.b = self.calc_b(X, y, self.w)\n",
    "                \n",
    "                # Compute E_i and E_j\n",
    "                E_i = self.E(x_i, y_i, self.w, self.b)\n",
    "                E_j = self.E(x_j, y_j, self.w, self.b)\n",
    "                \n",
    "                # New alphas\n",
    "                alpha[j] = alpha_prime_j = float(y_j * (E_i - E_j)) / k_ij\n",
    "                alpha[j] = max(alpha[j], L)\n",
    "                alpha[j] = min(alpha[j], H)\n",
    "                \n",
    "                alpha[i] = alpha_prime_i + y_i*y_j * (alpha_prime_j - alpha[j])\n",
    "                \n",
    "            # Converg\n",
    "            difference = np.linalg.norm(alpha - previous_alpha)\n",
    "            \n",
    "            if difference < self.epsilon:\n",
    "                break\n",
    "                \n",
    "            if count >= self.max_iter:\n",
    "                print(\"Number of iterations has exceeded the maximum possible iterations\")\n",
    "                \n",
    "                return\n",
    "            \n",
    "        # Final Parameters\n",
    "        self.b = self.calc_b(X,y, self.w)\n",
    "        if self.kernel_type == 'linear':\n",
    "            self.w = self.calc_w(alpha, y, X)\n",
    "        \n",
    "        # Grap support vectors\n",
    "        alpha_index = np.where(alpha > 0)[0]\n",
    "        support_vectors = X.iloc[alpha_index, :]\n",
    "        return support_vectors, count\n",
    "    \n",
    "    def predict(self, X):\n",
    "        return self.h(X, self.w, self.b)\n",
    "    \n",
    "    def calc_b(self, X, y, w):\n",
    "        temp_b = y - np.dot(w.T, X.T)\n",
    "        return np.mean(temp_b)\n",
    "    \n",
    "    def calc_w(self, alpha, y, X):\n",
    "        return np.dot(alpha * y, X)\n",
    "    \n",
    "    # Predict\n",
    "    def h(self, X, w, b):\n",
    "        return np.sign(np.dot(w.T, X.T) + b).astype(int)\n",
    "    \n",
    "    # Error\n",
    "    def E(self, x_k, y_k, w, b):\n",
    "        return self.h(x_k, w, b) - y_k\n",
    "    \n",
    "    def compute_L_H(self, C, alpha_prime_j, alpha_prime_i, y_j, y_i):\n",
    "        if (y_i != y_j):\n",
    "            return (max(0, alpha_prime_j - alpha_prime_i), min(C, C - alpha_prime_i + alpha_prime_j))\n",
    "        else:\n",
    "            return (max(0, alpha_prime_i + alpha_prime_j - C), min(C, alpha_prime_i + alpha_prime_j))\n",
    "    \n",
    "    def get_random_integer(self, a, b, z):\n",
    "        i = z\n",
    "        count1 = 0\n",
    "        while i == z and count1<1000:\n",
    "            i = np.random.randint(a,b)\n",
    "            count1 += 1\n",
    "        return i\n",
    "\n",
    "    def kernel_linear(self, x1, x2):\n",
    "        return np.dot(x1, x2.T)"
   ]
  },
  {
   "cell_type": "markdown",
   "metadata": {},
   "source": [
    "### Train/Test Split"
   ]
  },
  {
   "cell_type": "code",
   "execution_count": 66,
   "metadata": {},
   "outputs": [],
   "source": [
    "from sklearn.model_selection import train_test_split\n",
    "X_train, X_test, y_train, y_test = train_test_split(df.iloc[:,:-1], df.iloc[:,-1], test_size = .3)\n",
    "X_train = np.array(X_train)\n",
    "y_train = np.array(y_train)"
   ]
  },
  {
   "cell_type": "markdown",
   "metadata": {},
   "source": [
    "### Fit & Predict on training and test sets"
   ]
  },
  {
   "cell_type": "code",
   "execution_count": 71,
   "metadata": {},
   "outputs": [],
   "source": [
    "from sklearn.svm import SVC\n",
    "from sklearn.metrics import confusion_matrix\n",
    "from sklearn.metrics import classification_report\n",
    "SVM = SVC()\n",
    "SVM.fit(X_train,y_train)\n",
    "y_pred = SVM.predict(X_test)"
   ]
  },
  {
   "cell_type": "markdown",
   "metadata": {},
   "source": [
    "### Print Classification Report and Confusion Matrix"
   ]
  },
  {
   "cell_type": "code",
   "execution_count": 77,
   "metadata": {},
   "outputs": [
    {
     "name": "stdout",
     "output_type": "stream",
     "text": [
      "                     precision    recall  f1-score   support\n",
      "\n",
      "negative class (-1)       1.00      1.00      1.00        18\n",
      " positive class (1)       1.00      1.00      1.00        12\n",
      "\n",
      "        avg / total       1.00      1.00      1.00        30\n",
      "\n"
     ]
    },
    {
     "data": {
      "text/plain": [
       "array([[18,  0],\n",
       "       [ 0, 12]])"
      ]
     },
     "execution_count": 77,
     "metadata": {},
     "output_type": "execute_result"
    }
   ],
   "source": [
    "print(classification_report(y_test, y_pred, target_names = ['negative class (-1)','positive class (1)']))\n",
    "confusion_matrix(y_test, y_pred, labels=[-1,1])"
   ]
  },
  {
   "cell_type": "markdown",
   "metadata": {},
   "source": [
    "### The algorithm predicted with 100% accuracy on the test set.\n",
    "This shouldn't come as a surprise since we generated the data as being linearly separable."
   ]
  }
 ],
 "metadata": {
  "kernelspec": {
   "display_name": "Python 3",
   "language": "python",
   "name": "python3"
  },
  "language_info": {
   "codemirror_mode": {
    "name": "ipython",
    "version": 3
   },
   "file_extension": ".py",
   "mimetype": "text/x-python",
   "name": "python",
   "nbconvert_exporter": "python",
   "pygments_lexer": "ipython3",
   "version": "3.6.4"
  }
 },
 "nbformat": 4,
 "nbformat_minor": 2
}
